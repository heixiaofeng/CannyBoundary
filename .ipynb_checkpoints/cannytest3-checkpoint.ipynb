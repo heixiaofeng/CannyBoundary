{
 "cells": [
  {
   "cell_type": "code",
   "execution_count": 1,
   "metadata": {
    "collapsed": false
   },
   "outputs": [],
   "source": [
    "import cv2\n",
    "import numpy as np\n",
    " \n",
    "def CannyThreshold(lowThreshold):\n",
    "    detected_edges = cv2.GaussianBlur(gray,(3,3),0)\n",
    "    detected_edges = cv2.Canny(detected_edges,lowThreshold,lowThreshold*ratio,apertureSize = kernel_size)\n",
    "    dst = cv2.bitwise_and(img,img,mask = detected_edges)  # just add some colours to edges from original image.\n",
    "    cv2.imshow('canny demo',dst)\n",
    " \n",
    "lowThreshold = 0\n",
    "max_lowThreshold = 100\n",
    "ratio = 3\n",
    "kernel_size = 3\n",
    " \n",
    "img = cv2.imread('img/cat.jpg')\n",
    "gray = cv2.cvtColor(img,cv2.COLOR_BGR2GRAY)\n",
    " \n",
    "cv2.namedWindow('canny demo',cv2.WINDOW_NORMAL)\n",
    " \n",
    "cv2.createTrackbar('Min threshold','canny demo',lowThreshold, max_lowThreshold, CannyThreshold)\n",
    " \n",
    "CannyThreshold(0)  # initialization\n",
    "# if cv2.waitKey(0) == 27:\n",
    "#     cv2.destroyAllWindows()\n",
    "cv2.waitKey()\n",
    "cv2.destroyAllWindows()"
   ]
  }
 ],
 "metadata": {
  "anaconda-cloud": {},
  "kernelspec": {
   "display_name": "Python [conda root]",
   "language": "python",
   "name": "conda-root-py"
  },
  "language_info": {
   "codemirror_mode": {
    "name": "ipython",
    "version": 3
   },
   "file_extension": ".py",
   "mimetype": "text/x-python",
   "name": "python",
   "nbconvert_exporter": "python",
   "pygments_lexer": "ipython3",
   "version": "3.5.2"
  }
 },
 "nbformat": 4,
 "nbformat_minor": 1
}
