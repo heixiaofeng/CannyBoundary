{
 "cells": [
  {
   "cell_type": "code",
   "execution_count": null,
   "metadata": {
    "collapsed": true
   },
   "outputs": [],
   "source": [
    "import cv2\n",
    "import numpy as np\n",
    "\n",
    "img = cv2.pyrDown(cv2.imread(\"img/scene.jpg\", cv2.IMREAD_UNCHANGED))\n",
    "# threshold 函数对图像进行二化值处理，由于处理后图像对原图像有所变化，因此img.copy()生成新的图像，cv2.THRESH_BINARY是二化值\n",
    "ret, thresh = cv2.threshold(cv2.cvtColor(img.copy(), cv2.COLOR_BGR2GRAY), 127, 255, cv2.THRESH_BINARY)\n",
    "# findContours函数查找图像里的图形轮廓\n",
    "# 函数参数thresh是图像对象\n",
    "# 层次类型，参数cv2.RETR_EXTERNAL是获取最外层轮廓，cv2.RETR_TREE是获取轮廓的整体结构\n",
    "# 轮廓逼近方法\n",
    "# 输出的返回值，image是原图像、contours是图像的轮廓、hier是层次类型\n",
    "image, contours, hier = cv2.findContours(thresh, cv2.RETR_EXTERNAL, cv2.CHAIN_APPROX_SIMPLE)\n",
    "\n",
    "# for c in contours:\n",
    "#     # 轮廓绘制方法一\n",
    "#     # boundingRect函数计算边框值，x，y是坐标值，w，h是矩形的宽和高\n",
    "#     x, y, w, h = cv2.boundingRect(c)\n",
    "#     # 在img图像画出矩形，(x, y), (x + w, y + h)是矩形坐标，(0, 255, 0)设置通道颜色，2是设置线条粗度\n",
    "#     cv2.rectangle(img, (x, y), (x + w, y + h), (0, 255, 0), 2)\n",
    "\n",
    "#     # 轮廓绘制方法二\n",
    "#     # 查找最小区域\n",
    "#     rect = cv2.minAreaRect(c)\n",
    "#     # 计算最小面积矩形的坐标\n",
    "#     box = cv2.boxPoints(rect)\n",
    "#     # 将坐标规范化为整数\n",
    "#     box = np.int0(box)\n",
    "#     # 绘制矩形\n",
    "#     cv2.drawContours(img, [box], 0, (0, 0, 255), 3)\n",
    "\n",
    "#     # 轮廓绘制方法三\n",
    "#     # 圆心坐标和半径的计算\n",
    "#     (x, y), radius = cv2.minEnclosingCircle(c)\n",
    "#     # 规范化为整数\n",
    "#     center = (int(x), int(y))\n",
    "#     radius = int(radius)\n",
    "#     # 勾画圆形区域\n",
    "#     img = cv2.circle(img, center, radius, (0, 255, 0), 2)\n",
    "\n",
    "# # 轮廓绘制方法四\n",
    "# 围绕图形勾画蓝色线条\n",
    "cv2.drawContours(img, contours, -1, (255, 0, 0), 2)\n",
    "# 显示图像\n",
    "cv2.imshow(\"contours\", img)\n",
    "cv2.waitKey()\n",
    "cv2.destroyAllWindows()"
   ]
  }
 ],
 "metadata": {
  "anaconda-cloud": {},
  "kernelspec": {
   "display_name": "Python [conda root]",
   "language": "python",
   "name": "conda-root-py"
  },
  "language_info": {
   "codemirror_mode": {
    "name": "ipython",
    "version": 3
   },
   "file_extension": ".py",
   "mimetype": "text/x-python",
   "name": "python",
   "nbconvert_exporter": "python",
   "pygments_lexer": "ipython3",
   "version": "3.5.2"
  }
 },
 "nbformat": 4,
 "nbformat_minor": 1
}
