{
 "cells": [
  {
   "cell_type": "code",
   "execution_count": 1,
   "metadata": {
    "collapsed": true
   },
   "outputs": [],
   "source": [
    "#Canny边缘提取\n",
    "import cv2 as cv\n",
    "def edge_demo(image):\n",
    "    blurred = cv.GaussianBlur(image, (3, 3), 0)\n",
    "    gray = cv.cvtColor(blurred, cv.COLOR_RGB2GRAY)\n",
    "    edge_output = cv.Canny(gray, 50, 150)\n",
    "    cv.imshow(\"Canny Edge\", edge_output)\n",
    "    dst = cv.bitwise_and(image, image, mask= edge_output)\n",
    "    cv.imshow(\"Color Edge\", dst)\n",
    "src = cv.imread('img/ant.jpg')\n",
    "cv.namedWindow('input_image', cv.WINDOW_NORMAL) #设置为WINDOW_NORMAL可以任意缩放\n",
    "edge_demo(src)\n",
    "cv.waitKey(0)\n",
    "cv.destroyAllWindows()"
   ]
  }
 ],
 "metadata": {
  "kernelspec": {
   "display_name": "Python [conda root]",
   "language": "python",
   "name": "conda-root-py"
  },
  "language_info": {
   "codemirror_mode": {
    "name": "ipython",
    "version": 3
   },
   "file_extension": ".py",
   "mimetype": "text/x-python",
   "name": "python",
   "nbconvert_exporter": "python",
   "pygments_lexer": "ipython3",
   "version": "3.5.2"
  }
 },
 "nbformat": 4,
 "nbformat_minor": 1
}
