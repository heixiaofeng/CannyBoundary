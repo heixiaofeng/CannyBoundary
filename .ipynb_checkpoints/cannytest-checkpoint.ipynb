{
 "cells": [
  {
   "cell_type": "code",
   "execution_count": 9,
   "metadata": {
    "collapsed": false
   },
   "outputs": [],
   "source": [
    "import cv2\n",
    "import numpy as np\n",
    "\n",
    "img = cv2.imread(\"img/fish.jpg\")    #载入图像\n",
    " \n",
    "#得到灰度图\n",
    "gray = cv2.cvtColor(img,cv2.COLOR_BGR2GRAY)\n",
    "#进行高斯滤波去掉噪声\n",
    "blured = cv2.GaussianBlur(gray,(3,3),0)\n",
    " \n",
    "# image --   需要处理的原图像，该图像必须为单通道的灰度图\n",
    "# threshold1  --  阈值1\n",
    "# threshold2  --  阈值2\n",
    "# threshold2  是较大的阈值，用于检测图像中明显的边缘，但一般情况下检测的效果不会那么完美，边缘检测出来是断断续续的。所以这时候用较小的 \n",
    "# threshold1 （第一个阈值）用于将这些间断的边缘连接起来。\n",
    "\n",
    "#img = cv2.imread(\"img/balana.jpg\", 0)\n",
    "cv2.imwrite(\"canny.jpg\", cv2.Canny(blured, 50, 150))\n",
    "cv2.imshow(\"canny\", cv2.imread(\"canny.jpg\"))\n",
    "cv2.waitKey()\n",
    "cv2.destroyAllWindows()"
   ]
  }
 ],
 "metadata": {
  "anaconda-cloud": {},
  "kernelspec": {
   "display_name": "Python [conda root]",
   "language": "python",
   "name": "conda-root-py"
  },
  "language_info": {
   "codemirror_mode": {
    "name": "ipython",
    "version": 3
   },
   "file_extension": ".py",
   "mimetype": "text/x-python",
   "name": "python",
   "nbconvert_exporter": "python",
   "pygments_lexer": "ipython3",
   "version": "3.5.2"
  }
 },
 "nbformat": 4,
 "nbformat_minor": 1
}
